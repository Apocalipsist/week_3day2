{
 "cells": [
  {
   "cell_type": "markdown",
   "metadata": {},
   "source": [
    "# Object-Oriented-Programming (OOP)"
   ]
  },
  {
   "cell_type": "markdown",
   "metadata": {},
   "source": [
    "## Tasks Today:\n",
    "\n",
    "   \n",
    "1) <b>Dunder Methods</b> <br>\n",
    " &nbsp;&nbsp;&nbsp;&nbsp; a) The \\__str\\__() Methodo <br>\n",
    " &nbsp;&nbsp;&nbsp;&nbsp; b) The \\__repr\\__() Method <br>\n",
    " &nbsp;&nbsp;&nbsp;&nbsp; c) In-Class Exercise #1 - Create a class Animal that displays the species and animal name when printed <br>  \n",
    "2) <b>Inheritance</b> <br>\n",
    " &nbsp;&nbsp;&nbsp;&nbsp; a) Syntax for Inheriting from a Parent Class <br>\n",
    " &nbsp;&nbsp;&nbsp;&nbsp; b) The \\__init\\__() Method for a Child Class (super()) <br>\n",
    " &nbsp;&nbsp;&nbsp;&nbsp; c) Defining Attributes and Methods for the Child Class <br>\n",
    " &nbsp;&nbsp;&nbsp;&nbsp; d) Method Overriding <br>\n",
    " &nbsp;&nbsp;&nbsp;&nbsp; e) In-Class Exercise #2 - Create a class 'Ford' that inherits from 'Car' class and initialize it as a Blue Ford Explorer with 4 wheels using the super() method <br>\n",
    "3) <b>Modules</b> <br>\n",
    " &nbsp;&nbsp;&nbsp;&nbsp; a) Importing Modules<br>\n",
    " &nbsp;&nbsp;&nbsp;&nbsp; b) Importing from modules <br>\n",
    " &nbsp;&nbsp;&nbsp;&nbsp; c) Aliasing <br>\n",
    " &nbsp;&nbsp;&nbsp;&nbsp; d) Creating Modules <br>\n",
    " &nbsp;&nbsp;&nbsp;&nbsp; e) In-Class Exercise #2 - Create a class 'Ford' <br>\n",
    "4) <b>Exercises</b> <br>\n",
    " &nbsp;&nbsp;&nbsp;&nbsp; a) Exercise #1 - Turn the shopping cart program from yesterday into an object-oriented program <br>"
   ]
  },
  {
   "cell_type": "markdown",
   "metadata": {},
   "source": [
    "### Warm Up"
   ]
  },
  {
   "cell_type": "markdown",
   "metadata": {},
   "source": [
    "Create two classes: one for a user that includes username, email, and password. Another for posts that has a title, body, and author. The author should be an instance of user."
   ]
  },
  {
   "cell_type": "code",
   "execution_count": 1,
   "metadata": {},
   "outputs": [],
   "source": [
    "class User:\n",
    "    \n",
    "    def __init__(self, username, email, password):\n",
    "        self.username = username\n",
    "        self.email = email\n",
    "        self.password = password\n",
    "\n",
    "\n",
    "\n",
    "\n",
    "class Posts:\n",
    "    \n",
    "    def __init__(self, title, body, author):\n",
    "        self.title = title\n",
    "        self.body = body\n",
    "        self.author = author\n",
    "    \n",
    "    \n",
    "    "
   ]
  },
  {
   "cell_type": "code",
   "execution_count": 25,
   "metadata": {},
   "outputs": [],
   "source": [
    "author1 = User(\"Bash\", \"bash.t@gmail.com\",\"93ki32**1.\")\n",
    "post1 = Posts(\"How to instance\", \"you set up a user\" , author1)"
   ]
  },
  {
   "cell_type": "code",
   "execution_count": 26,
   "metadata": {},
   "outputs": [
    {
     "name": "stdout",
     "output_type": "stream",
     "text": [
      "Bash\n",
      "{'title': 'How to instance', 'body': 'you set up a user', 'author': <__main__.User object at 0x000002BD635F9AC0>}\n"
     ]
    }
   ],
   "source": [
    "print(author1.username)\n",
    "print(post1.__dict__)"
   ]
  },
  {
   "cell_type": "markdown",
   "metadata": {},
   "source": [
    "## Dunder Methods"
   ]
  },
  {
   "cell_type": "markdown",
   "metadata": {},
   "source": [
    "#### \\__str\\__()"
   ]
  },
  {
   "cell_type": "code",
   "execution_count": 35,
   "metadata": {},
   "outputs": [
    {
     "name": "stdout",
     "output_type": "stream",
     "text": [
      "Blue Toyta Camry\n"
     ]
    }
   ],
   "source": [
    "#  __str__ is the methon that is invoked when you call print on your objects\n",
    "\n",
    "class Car:\n",
    "    def __init__(self, color,make,model):\n",
    "        self.color = color\n",
    "        self.make = make\n",
    "        self.model = model\n",
    "        \n",
    "    def __str__(self):\n",
    "            return f\"{self.color} {self.make} {self.model}\".title()\n",
    "        \n",
    "car1 =  Car('Blue', 'toyta', 'Camry')\n",
    "\n",
    "\n",
    "print(car1)\n"
   ]
  },
  {
   "cell_type": "raw",
   "metadata": {},
   "source": [
    "car1"
   ]
  },
  {
   "cell_type": "code",
   "execution_count": null,
   "metadata": {},
   "outputs": [],
   "source": []
  },
  {
   "cell_type": "markdown",
   "metadata": {},
   "source": [
    "#### \\__repr\\__()"
   ]
  },
  {
   "cell_type": "code",
   "execution_count": 44,
   "metadata": {
    "scrolled": true
   },
   "outputs": [
    {
     "name": "stdout",
     "output_type": "stream",
     "text": [
      "Blue Toyta Camry\n"
     ]
    }
   ],
   "source": [
    "#  Developer Friendly Way of viewing our objects vs user-friendly\n",
    "# built-in  print function will user __repr__ if __str__ is not defined\n",
    "\n",
    "class Car:\n",
    "    def __init__(self,car_id, color,make,model):\n",
    "        self.id =car_id\n",
    "        self.color = color\n",
    "        self.make = make\n",
    "        self.model = model\n",
    "        \n",
    "    def __str__(self):\n",
    "            return f\"{self.color} {self.make} {self.model}\".title()\n",
    "        \n",
    "    def __repr__(self):\n",
    "        return f\"<Car{self.id}| {self.make}{self.model}>\"\n",
    "        \n",
    "car1 =  Car(1,'Blue', 'toyta', 'Camry')\n",
    "\n",
    "\n",
    "print(car1)"
   ]
  },
  {
   "cell_type": "code",
   "execution_count": 45,
   "metadata": {},
   "outputs": [
    {
     "data": {
      "text/plain": [
       "<Car1| toytaCamry>"
      ]
     },
     "execution_count": 45,
     "metadata": {},
     "output_type": "execute_result"
    }
   ],
   "source": [
    "car1"
   ]
  },
  {
   "cell_type": "code",
   "execution_count": null,
   "metadata": {},
   "outputs": [],
   "source": []
  },
  {
   "cell_type": "markdown",
   "metadata": {},
   "source": [
    "#### \\__lt\\__(), \\__lte\\__(), \\__eq\\__(), etc"
   ]
  },
  {
   "cell_type": "code",
   "execution_count": null,
   "metadata": {},
   "outputs": [],
   "source": [
    "class Item:\n",
    "    def __init__(self,name, price, quantity):\n",
    "        self.name =name\n",
    "        self.price = price\n",
    "        self.quantity = quantity\n",
    "\n",
    "    def __str__(self):\n",
    "        return f\"{self.name}: {self.price} {self.quantity}\".title()\n",
    "    \n",
    "    def __repr__(self):\n",
    "        return f\"<Car{self.name}: {self.price}{self.quantity}>\"\n",
    "    \n",
    "    def __lt__(self, other_item):\n",
    "        return self.price < other_item.price \n",
    "    #if items have multiple quantity follow self.price * self.quantity < other_item.price * other_item.quantity\n",
    "    \n",
    "    def __le__(self, other_item):\n",
    "        return self.price <= other_item.price\n",
    "    \n",
    "    def __eq__(self, other_item):\n",
    "        return self.price == other_item.price\n",
    "    \n",
    "    def __add__(self, value_to_add):\n",
    "        self.quantity += value_to_add\n",
    "        return self\n",
    "    \n",
    "    def __sub__(self, value_to_sub):\n",
    "        self.quantity += value_to_sub\n",
    "        return self\n",
    "    \n",
    "    \n",
    "    \n"
   ]
  },
  {
   "cell_type": "code",
   "execution_count": null,
   "metadata": {},
   "outputs": [],
   "source": []
  },
  {
   "cell_type": "code",
   "execution_count": null,
   "metadata": {},
   "outputs": [],
   "source": []
  },
  {
   "cell_type": "code",
   "execution_count": null,
   "metadata": {},
   "outputs": [],
   "source": []
  },
  {
   "cell_type": "markdown",
   "metadata": {},
   "source": [
    "#### In-class Exercise 1"
   ]
  },
  {
   "cell_type": "code",
   "execution_count": 57,
   "metadata": {},
   "outputs": [
    {
     "name": "stdout",
     "output_type": "stream",
     "text": [
      "Kratos Is A Dog\n"
     ]
    }
   ],
   "source": [
    "# Create a class Animal that displays the name and species when printed\n",
    "\n",
    "class Animal:\n",
    "    \n",
    "    def __init__(self, name, species= \"dog\",):\n",
    "        self.name = name\n",
    "        self.species = species\n",
    "    \n",
    "    def __str__(self):\n",
    "        return f\"{self.name} is a {self.species}\".title()\n",
    "        \n",
    "    def __repr__(self):\n",
    "        return f\"<Species {self.species}: {self.name}>\"\n",
    "    \n",
    "dog1 = Animal('Kratos', 'Dog')\n",
    "dog2 = Animal('Romeo','Dog')\n",
    "bird1 =\n",
    "\n",
    "print(dog1)\n",
    "print(dog2)"
   ]
  },
  {
   "cell_type": "code",
   "execution_count": 58,
   "metadata": {},
   "outputs": [
    {
     "data": {
      "text/plain": [
       "<Species Dog: Kratos>"
      ]
     },
     "execution_count": 58,
     "metadata": {},
     "output_type": "execute_result"
    }
   ],
   "source": [
    "dog1"
   ]
  },
  {
   "cell_type": "markdown",
   "metadata": {},
   "source": [
    "## Inheritance <br>\n",
    "<p>You can create a child-parent relationship between two classes by using inheritance. What this allows you to do is have overriding methods, but also inherit traits from the parent class. Think of it as an actual parent and child, the child will inherit the parent's genes, as will the classes in OOP</p>"
   ]
  },
  {
   "cell_type": "markdown",
   "metadata": {},
   "source": [
    "##### Syntax for Inheriting from a Parent Class"
   ]
  },
  {
   "cell_type": "code",
   "execution_count": 64,
   "metadata": {},
   "outputs": [
    {
     "name": "stdout",
     "output_type": "stream",
     "text": [
      "Length: 15 x Width:25\n",
      "This is the Rectangle Method\n",
      "375\n",
      "80\n",
      "===================================\n",
      "Length: 15 x Width:15\n",
      "This is the Square Method\n",
      "225\n",
      "60\n",
      "4\n"
     ]
    }
   ],
   "source": [
    "# Syntax: class Child(Parent):\n",
    "\n",
    "class Rectangle: #parent\n",
    "    \n",
    "    sides = 4 #class attribute\n",
    "    \n",
    "    def __init__(self, length, width):\n",
    "        self.length = length\n",
    "        self.width = width\n",
    "        \n",
    "    def __str__(self):\n",
    "        return f\"Length: {self.length} x Width:{self.width}\"\n",
    "    \n",
    "    def area(self):\n",
    "        print('This is the Rectangle Method')\n",
    "        return self.length * self.width   \n",
    "    \n",
    "    def perimeter(self):\n",
    "        return 2*self.length + 2*self.width\n",
    "    \n",
    "class Square(Rectangle):\n",
    "    \n",
    "    # this is just to show you can overide the parent class.\n",
    "    def area(self):         \n",
    "        print('This is the Square Method')\n",
    "        return self.length **2\n",
    "    \n",
    "my_rect = Rectangle(15,25)\n",
    "\n",
    "print(my_rect)\n",
    "print(my_rect.area())\n",
    "print(my_rect.perimeter())\n",
    "print(\"=\"*35)\n",
    "\n",
    "my_square = Square(15,15)\n",
    "\n",
    "print(my_square)\n",
    "print(my_square.area())\n",
    "print(my_square.perimeter())\n",
    "print(my_square.sides)"
   ]
  },
  {
   "cell_type": "code",
   "execution_count": null,
   "metadata": {},
   "outputs": [],
   "source": []
  },
  {
   "cell_type": "markdown",
   "metadata": {},
   "source": [
    "##### The \\__init\\__() Method for a Child Class - super()"
   ]
  },
  {
   "cell_type": "code",
   "execution_count": null,
   "metadata": {},
   "outputs": [],
   "source": []
  },
  {
   "cell_type": "code",
   "execution_count": 69,
   "metadata": {
    "scrolled": true
   },
   "outputs": [
    {
     "name": "stdout",
     "output_type": "stream",
     "text": [
      "Rectangle__init__\n",
      "Square__init__\n",
      "Rectangle__init__\n",
      "5\n",
      "7.0710678118654755\n",
      "<bound method Square.area of <__main__.Square object at 0x000002BD64CB06D0>>\n"
     ]
    }
   ],
   "source": [
    "class Rectangle: #parent\n",
    "    \n",
    "    sides = 4 #class attribute\n",
    "    \n",
    "    def __init__(self, length, width):\n",
    "        print(\"Rectangle__init__\")\n",
    "        self.length = length\n",
    "        self.width = width\n",
    "        \n",
    "    def __str__(self):\n",
    "        return f\"Length: {self.length} x Width:{self.width}\"\n",
    "    \n",
    "    def area(self):\n",
    "        print('This is the Rectangle Method')\n",
    "        return self.length * self.width   \n",
    "    \n",
    "    def perimeter(self):\n",
    "        return 2*self.length + 2*self.width\n",
    "    \n",
    "class Square(Rectangle):\n",
    "    \n",
    "    def __init__(self, side):\n",
    "        print('Square__init__')\n",
    "        super().__init__(side,side) #you'd make the argument taken for square overide the arguments for length, width.\n",
    "        self.hypotenuse = side * (2**(1/2))\n",
    "    \n",
    "    # this is just to show you can overide the parent class.\n",
    "    def area(self):         \n",
    "        print('This is the Square Method')\n",
    "        return self.length **2\n",
    "    \n",
    "my_rect = Rectangle(15,25)\n",
    "\n",
    "my_square = Square(5)\n",
    "print(my_square.length)        \n",
    "print(my_square.hypotenuse) \n",
    "print(my_square.area) "
   ]
  },
  {
   "cell_type": "code",
   "execution_count": null,
   "metadata": {},
   "outputs": [],
   "source": []
  },
  {
   "cell_type": "code",
   "execution_count": null,
   "metadata": {
    "scrolled": true
   },
   "outputs": [],
   "source": []
  },
  {
   "cell_type": "code",
   "execution_count": 87,
   "metadata": {},
   "outputs": [
    {
     "ename": "SyntaxError",
     "evalue": "positional argument follows keyword argument (1753862240.py, line 24)",
     "output_type": "error",
     "traceback": [
      "\u001b[1;36m  Input \u001b[1;32mIn [87]\u001b[1;36m\u001b[0m\n\u001b[1;33m    super().__init__(make=\"ford\", model, gas_level)\u001b[0m\n\u001b[1;37m                                                  ^\u001b[0m\n\u001b[1;31mSyntaxError\u001b[0m\u001b[1;31m:\u001b[0m positional argument follows keyword argument\n"
     ]
    }
   ],
   "source": [
    "class Car():\n",
    "    def __init__(self, color, model, gas_level):\n",
    "        \"\"\"A simple attempt to represent a car.\"\"\"\n",
    "        self.color = color\n",
    "        self.model = model\n",
    "        self.gas_level=gas_level\n",
    "\n",
    "    def drive(self,num_miles_driven):\n",
    "        unit_decrease=num_miles_driven //5\n",
    "        self.gas_level-=unit_decrease #self.gas_level = self.gas_level-unit_decrease\n",
    "        print(f\"The {self.color} {self.model} now has a gas level of {self.gas_level}\")\n",
    "        \n",
    "        \n",
    "    def fill_up(self,gallons):\n",
    "        unit_increase=gallons*10\n",
    "        self.gas_level += unit_increase\n",
    "        print(f\"The {self.color} {self.model} now has a gas level of {self.gas_level}\")\n",
    "    \n",
    "\n",
    "class Ford(Car):\n",
    "    \"\"\"Represent aspects of a car, specific to Ford vehicles.\"\"\"\n",
    "    def __init__(self, color, model, gas_level):\n",
    "        \"\"\"Initialize attributes of the parent class.\"\"\"\n",
    "        super().__init__(make=\"ford\", model, gas_level)\n",
    "\n",
    "my_car = Ford('blue', 'focus')\n",
    "print(my_ford.get_descriptive_name())\n",
    "    \n",
    "\n",
    "\n",
    "\n",
    "my_car = Ford('blue', 'Focus')\n",
    "\n",
    "print(my_car.model) # 'Ford'\n",
    "\n",
    "my_car.drive() # 'blue Ford Focus is driving'\n",
    "\n",
    "my_car.fill_up() # 'Filling up blue Ford Focus'"
   ]
  },
  {
   "cell_type": "markdown",
   "metadata": {},
   "source": [
    "#### In-class Exercise 2"
   ]
  },
  {
   "cell_type": "markdown",
   "metadata": {},
   "source": [
    "Create a Car class that has a drive and fill up method, and then create a Ford class that inherits from the car class."
   ]
  },
  {
   "cell_type": "code",
   "execution_count": 94,
   "metadata": {},
   "outputs": [
    {
     "ename": "IndentationError",
     "evalue": "expected an indented block (570561912.py, line 12)",
     "output_type": "error",
     "traceback": [
      "\u001b[1;36m  Input \u001b[1;32mIn [94]\u001b[1;36m\u001b[0m\n\u001b[1;33m    class Ford(Car):\u001b[0m\n\u001b[1;37m                    ^\u001b[0m\n\u001b[1;31mIndentationError\u001b[0m\u001b[1;31m:\u001b[0m expected an indented block\n"
     ]
    }
   ],
   "source": [
    "class Car:\n",
    "    def __init__(self, color, make=\"Ford\", model):\n",
    "        self.color = color\n",
    "        self.make = make\n",
    "        self.model = model\n",
    "    \n",
    "    def drive(self,miles):\n",
    "        \n",
    "\n",
    "    \n",
    "    \n",
    "class Ford(Car):\n",
    "    def __init__(self, color, model)\n",
    "\n",
    "\n",
    "\n",
    "\n",
    "\n",
    "my_car = Ford('blue', 'Focus')\n",
    "\n",
    "print(my_car.make) # 'Ford'\n",
    "\n",
    "my_car.drive() # 'blue Ford Focus is driving'\n",
    "\n",
    "my_car.fill_up() # 'Filling up blue Ford Focus'\n"
   ]
  },
  {
   "cell_type": "markdown",
   "metadata": {},
   "source": [
    "## Modules"
   ]
  },
  {
   "cell_type": "markdown",
   "metadata": {},
   "source": [
    "##### Importing Entire Modules"
   ]
  },
  {
   "cell_type": "code",
   "execution_count": 97,
   "metadata": {},
   "outputs": [
    {
     "name": "stdout",
     "output_type": "stream",
     "text": [
      "<module 'math' (built-in)>\n"
     ]
    }
   ],
   "source": [
    "# import name_of_module\n",
    "import math\n",
    "\n",
    "print(math)\n"
   ]
  },
  {
   "cell_type": "code",
   "execution_count": 100,
   "metadata": {},
   "outputs": [
    {
     "name": "stdout",
     "output_type": "stream",
     "text": [
      "120\n",
      "3.141592653589793\n"
     ]
    }
   ],
   "source": [
    "five_factorial = math.factorial(5)\n",
    "print(five_factorial)\n",
    "\n",
    "print(math.pi)"
   ]
  },
  {
   "cell_type": "markdown",
   "metadata": {},
   "source": [
    "##### Importing Methods Only"
   ]
  },
  {
   "cell_type": "code",
   "execution_count": 103,
   "metadata": {},
   "outputs": [
    {
     "name": "stdout",
     "output_type": "stream",
     "text": [
      "<function mean at 0x000002BD64C57790>\n",
      "<function median at 0x000002BD64C57670>\n",
      "11.8\n",
      "9\n"
     ]
    }
   ],
   "source": [
    "# from module_name import class, function, constant, etc.\n",
    "from statistics import mean,median\n",
    "\n",
    "print(mean)\n",
    "print(median)\n",
    "# print(statistics) #NameError:name 'statistics' is not defined | because statistics is not imported\n",
    "\n",
    "my_list = [2, 3, 6, 9, 7, 10, 22, 38, 15, 11, 10, 20, 7, 8, 9]\n",
    "\n",
    "print(mean(my_list))\n",
    "print(median(my_list))"
   ]
  },
  {
   "cell_type": "markdown",
   "metadata": {},
   "source": [
    "##### Using the 'as' Keyword"
   ]
  },
  {
   "cell_type": "code",
   "execution_count": 115,
   "metadata": {},
   "outputs": [
    {
     "name": "stdout",
     "output_type": "stream",
     "text": [
      "<bound method Random.randint of <random.Random object at 0x000002BD5DAAEED0>>\n",
      "2\n"
     ]
    }
   ],
   "source": [
    "# import module as new_name\n",
    "# from module import function as f\n",
    "from random import randint as random_num\n",
    "\n",
    "print(random_num)\n",
    "print(random_num(1,3))\n",
    "\n"
   ]
  },
  {
   "cell_type": "code",
   "execution_count": 118,
   "metadata": {},
   "outputs": [
    {
     "name": "stdout",
     "output_type": "stream",
     "text": [
      "<module 'collections' from 'C:\\\\Users\\\\Paco\\\\anaconda3\\\\lib\\\\collections\\\\__init__.py'>\n",
      "<class 'collections.Counter'>\n",
      "Counter({1: 7, 5: 5, 8: 5, 9: 5, 3: 3, 4: 3, 2: 2, 7: 2, 0: 1})\n"
     ]
    }
   ],
   "source": [
    "import collections as col\n",
    "\n",
    "print(col)\n",
    "print(col.Counter)\n",
    "\n",
    "num_count = col.Counter([1,1,1,2,2,3,4,5,1,5,3,5,8,7,1,3,5,4,8,9,1,8,9,9,9,8,8,7,9,4,1,0,5])\n",
    "print(num_count)"
   ]
  },
  {
   "cell_type": "code",
   "execution_count": 1,
   "metadata": {},
   "outputs": [
    {
     "name": "stdout",
     "output_type": "stream",
     "text": [
      "Hello this is a test module\n"
     ]
    }
   ],
   "source": [
    "# Using VS Code\n",
    "import test_module"
   ]
  },
  {
   "cell_type": "code",
   "execution_count": 2,
   "metadata": {},
   "outputs": [
    {
     "name": "stdout",
     "output_type": "stream",
     "text": [
      "<module 'test_module' from 'C:\\\\Users\\\\Paco\\\\Desktop\\\\Coding Temple\\\\Week3\\\\day2\\\\test_module.py'>\n"
     ]
    }
   ],
   "source": [
    "print(test_module)\n"
   ]
  },
  {
   "cell_type": "code",
   "execution_count": 3,
   "metadata": {},
   "outputs": [
    {
     "name": "stdout",
     "output_type": "stream",
     "text": [
      "Hello Vanna. How are you today?\n"
     ]
    }
   ],
   "source": [
    "test_module.greet(\"Vanna\")"
   ]
  },
  {
   "cell_type": "code",
   "execution_count": 4,
   "metadata": {},
   "outputs": [
    {
     "name": "stdout",
     "output_type": "stream",
     "text": [
      "Goodbye Bash. It was great to see you!\n"
     ]
    }
   ],
   "source": [
    "test_module.leave('bash')"
   ]
  },
  {
   "cell_type": "code",
   "execution_count": 5,
   "metadata": {},
   "outputs": [
    {
     "name": "stdout",
     "output_type": "stream",
     "text": [
      "This __init__ file sets eveything up\n"
     ]
    }
   ],
   "source": [
    "#Folder Module\n",
    "\n",
    "import folder_module"
   ]
  },
  {
   "cell_type": "code",
   "execution_count": 6,
   "metadata": {},
   "outputs": [
    {
     "data": {
      "text/plain": [
       "32"
      ]
     },
     "execution_count": 6,
     "metadata": {},
     "output_type": "execute_result"
    }
   ],
   "source": [
    "folder_module.add_nums(10,22)"
   ]
  },
  {
   "cell_type": "code",
   "execution_count": null,
   "metadata": {},
   "outputs": [],
   "source": []
  }
 ],
 "metadata": {
  "kernelspec": {
   "display_name": "Python 3.10.7 64-bit",
   "language": "python",
   "name": "python3"
  },
  "language_info": {
   "codemirror_mode": {
    "name": "ipython",
    "version": 3
   },
   "file_extension": ".py",
   "mimetype": "text/x-python",
   "name": "python",
   "nbconvert_exporter": "python",
   "pygments_lexer": "ipython3",
   "version": "3.10.7"
  },
  "vscode": {
   "interpreter": {
    "hash": "89b5318af201cfb04e7d524c1b6673359def82d0442565728f41e5df2809b9b3"
   }
  }
 },
 "nbformat": 4,
 "nbformat_minor": 2
}
